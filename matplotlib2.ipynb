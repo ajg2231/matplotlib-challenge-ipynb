{
 "cells": [
  {
   "cell_type": "code",
   "execution_count": 7,
   "metadata": {},
   "outputs": [],
   "source": [
    "import matplotlib.pyplot as plt\n",
    "import pandas as pd\n",
    "import numpy as np\n",
    "a = pd.read_csv(\"/Users/alexandergoldstein/Downloads/05-Matplotlib_Homework_Pymaceuticals_data_Study_results.csv\")\n",
    "\n",
    "c = a[a[\"Timepoint\"] == 0].drop_duplicates(subset = 'Mouse ID', keep= \"first\")\n",
    "d = a[a[\"Timepoint\"] == 5].drop_duplicates(subset = 'Mouse ID', keep= \"first\")\n",
    "e = a[a[\"Timepoint\"] == 10].drop_duplicates(subset = 'Mouse ID', keep= \"first\")\n",
    "f = a[a[\"Timepoint\"] == 15].drop_duplicates(subset = 'Mouse ID', keep= \"first\")\n",
    "g = a[a[\"Timepoint\"] == 20].drop_duplicates(subset = 'Mouse ID', keep= \"first\")\n",
    "h = a[a[\"Timepoint\"] == 25].drop_duplicates(subset = 'Mouse ID', keep= \"first\")\n",
    "i = a[a[\"Timepoint\"] == 30].drop_duplicates(subset = 'Mouse ID', keep= \"first\")\n",
    "j = a[a[\"Timepoint\"] == 35].drop_duplicates(subset = 'Mouse ID', keep= \"first\")\n",
    "k = a[a[\"Timepoint\"] == 40].drop_duplicates(subset = 'Mouse ID', keep= \"first\")\n",
    "l = a[a[\"Timepoint\"] == 45].drop_duplicates(subset = 'Mouse ID', keep= \"first\")\n",
    "\n",
    "m = pd.concat([c, d, e, f, g, h, i, j, k, l], ignore_index = True)\n",
    "#removes duplicate timepoint values "
   ]
  },
  {
   "cell_type": "code",
   "execution_count": 2,
   "metadata": {},
   "outputs": [
    {
     "name": "stdout",
     "output_type": "stream",
     "text": [
      "At 0 weeks, mean tumor size is: 45.0 The median is: 45.0 The variance is: 0.0 The st. dev. is 0.0 The st. error is: 0.0\n",
      "At 5 weeks, mean tumor size is: 46.382155337974666 The median is: 46.55308986 The variance is: 3.930956055448216 The st. dev. is 1.9784766217921228 The st. error is: 0.1287878583960679\n",
      "At 10 weeks, mean tumor size is: 47.69045980328826 The median is: 48.182732365 The variance is: 11.543707922324547 The st. dev. is 3.3899423649952745 The st. error is: 0.22803220021478385\n",
      "At 15 weeks, mean tumor size is: 48.972307432766975 The median is: 49.96124556 The variance is: 22.82543601260273 The st. dev. is 4.7659870882287265 The st. error is: 0.33287097716655806\n",
      "At 20 weeks, mean tumor size is: 50.492810088092796 The median is: 52.118947215 The variance is: 40.812102370002464 The st. dev. is 6.371948737105583 The st. error is: 0.4586629063931852\n",
      "At 25 weeks, mean tumor size is: 52.04648450497269 The median is: 54.61397279 The variance is: 62.98715796080811 The st. dev. is 7.91473093925521 The st. error is: 0.5866788900279399\n",
      "At 30 weeks, mean tumor size is: 53.6314863598246 The median is: 56.87381654 The variance is: 93.91696422728158 The st. dev. is 9.66269849546474 The st. error is: 0.7410951443809617\n",
      "At 35 weeks, mean tumor size is: 54.82905632655843 The median is: 58.67144087 The variance is: 133.04804799871553 The st. dev. is 11.497134409716514 The st. error is: 0.9294882267291086\n",
      "At 40 weeks, mean tumor size is: 56.25331458549297 The median is: 61.45276235 The variance is: 176.2786525728147 The st. dev. is 13.230164534541295 The st. error is: 1.114180847879008\n",
      "At 45 weeks, mean tumor size is: 57.325726064307695 The median is: 63.53754596 The variance is: 243.48619789454025 The st. dev. is 15.543912864575166 The st. error is: 1.3685652169461728\n"
     ]
    }
   ],
   "source": [
    "import statistics as stats\n",
    "\n",
    "b = c[\"Tumor Volume (mm3)\"].mean()\n",
    "n = c[\"Tumor Volume (mm3)\"].median()\n",
    "o = stats.variance(c[\"Tumor Volume (mm3)\"])\n",
    "p = np.std(c[\"Tumor Volume (mm3)\"])\n",
    "bb = c[\"Tumor Volume (mm3)\"].sem()\n",
    "\n",
    "print(\"At 0 weeks, mean tumor size is:\", b, \"The median is:\", n, \"The variance is:\", o, \"The st. dev. is\", p, \"The st. error is:\", bb)\n",
    "\n",
    "q = d[\"Tumor Volume (mm3)\"].mean()\n",
    "r = d[\"Tumor Volume (mm3)\"].median()\n",
    "s = stats.variance(d[\"Tumor Volume (mm3)\"])\n",
    "t = np.std(d[\"Tumor Volume (mm3)\"])\n",
    "bc = d[\"Tumor Volume (mm3)\"].sem()\n",
    "\n",
    "print(\"At 5 weeks, mean tumor size is:\", q, \"The median is:\", r, \"The variance is:\", s, \"The st. dev. is\", t, \"The st. error is:\", bc)\n",
    "\n",
    "u = e[\"Tumor Volume (mm3)\"].mean()\n",
    "v = e[\"Tumor Volume (mm3)\"].median()\n",
    "w = stats.variance(e[\"Tumor Volume (mm3)\"])\n",
    "x = np.std(e[\"Tumor Volume (mm3)\"])\n",
    "bd = e[\"Tumor Volume (mm3)\"].sem()\n",
    "\n",
    "print(\"At 10 weeks, mean tumor size is:\", u, \"The median is:\", v, \"The variance is:\", w, \"The st. dev. is\", x, \"The st. error is:\", bd)\n",
    "\n",
    "y = f[\"Tumor Volume (mm3)\"].mean()\n",
    "z = f[\"Tumor Volume (mm3)\"].median()\n",
    "aa = stats.variance(f[\"Tumor Volume (mm3)\"])\n",
    "ab = np.std(f[\"Tumor Volume (mm3)\"])\n",
    "be = f[\"Tumor Volume (mm3)\"].sem()\n",
    "\n",
    "print(\"At 15 weeks, mean tumor size is:\", y, \"The median is:\", z, \"The variance is:\", aa, \"The st. dev. is\", ab, \"The st. error is:\", be)\n",
    "\n",
    "ac = g[\"Tumor Volume (mm3)\"].mean()\n",
    "ad = g[\"Tumor Volume (mm3)\"].median()\n",
    "ae = stats.variance(g[\"Tumor Volume (mm3)\"])\n",
    "af = np.std(g[\"Tumor Volume (mm3)\"])\n",
    "bf = g[\"Tumor Volume (mm3)\"].sem()\n",
    "\n",
    "print(\"At 20 weeks, mean tumor size is:\", ac, \"The median is:\", ad, \"The variance is:\", ae, \"The st. dev. is\", af, \"The st. error is:\", bf)\n",
    "\n",
    "ag = h[\"Tumor Volume (mm3)\"].mean()\n",
    "ah = h[\"Tumor Volume (mm3)\"].median()\n",
    "ai = stats.variance(h[\"Tumor Volume (mm3)\"])\n",
    "aj = np.std(h[\"Tumor Volume (mm3)\"])\n",
    "bg = h[\"Tumor Volume (mm3)\"].sem()\n",
    "\n",
    "print(\"At 25 weeks, mean tumor size is:\", ag, \"The median is:\", ah, \"The variance is:\", ai, \"The st. dev. is\", aj, \"The st. error is:\", bg)\n",
    "\n",
    "ak = i[\"Tumor Volume (mm3)\"].mean()\n",
    "al = i[\"Tumor Volume (mm3)\"].median()\n",
    "am = stats.variance(i[\"Tumor Volume (mm3)\"])\n",
    "an = np.std(i[\"Tumor Volume (mm3)\"])\n",
    "bh = i[\"Tumor Volume (mm3)\"].sem()\n",
    "\n",
    "print(\"At 30 weeks, mean tumor size is:\", ak, \"The median is:\", al, \"The variance is:\", am, \"The st. dev. is\", an, \"The st. error is:\", bh)\n",
    "\n",
    "ao = j[\"Tumor Volume (mm3)\"].mean()\n",
    "ap = j[\"Tumor Volume (mm3)\"].median()\n",
    "aq = stats.variance(j[\"Tumor Volume (mm3)\"])\n",
    "ar = np.std(j[\"Tumor Volume (mm3)\"])\n",
    "bi = j[\"Tumor Volume (mm3)\"].sem()\n",
    "\n",
    "print(\"At 35 weeks, mean tumor size is:\", ao, \"The median is:\", ap, \"The variance is:\", aq, \"The st. dev. is\", ar, \"The st. error is:\", bi)\n",
    "\n",
    "at = k[\"Tumor Volume (mm3)\"].mean()\n",
    "au = k[\"Tumor Volume (mm3)\"].median()\n",
    "av = stats.variance(k[\"Tumor Volume (mm3)\"])\n",
    "aw = np.std(k[\"Tumor Volume (mm3)\"])\n",
    "bj = k[\"Tumor Volume (mm3)\"].sem()\n",
    "\n",
    "print(\"At 40 weeks, mean tumor size is:\", at, \"The median is:\", au, \"The variance is:\", av, \"The st. dev. is\", aw, \"The st. error is:\", bj)\n",
    "\n",
    "ax = l[\"Tumor Volume (mm3)\"].mean()\n",
    "ay = l[\"Tumor Volume (mm3)\"].median()\n",
    "az = stats.variance(l[\"Tumor Volume (mm3)\"])\n",
    "ba = np.std(l[\"Tumor Volume (mm3)\"])\n",
    "bk = l[\"Tumor Volume (mm3)\"].sem()\n",
    "\n",
    "print(\"At 45 weeks, mean tumor size is:\", ax, \"The median is:\", ay, \"The variance is:\", az, \"The st. dev. is\", ba, \"The st. error is:\", bk)\n",
    "#returns summary statistics table "
   ]
  },
  {
   "cell_type": "code",
   "execution_count": 64,
   "metadata": {},
   "outputs": [
    {
     "data": {
      "text/plain": [
       "[]"
      ]
     },
     "execution_count": 64,
     "metadata": {},
     "output_type": "execute_result"
    },
    {
     "data": {
      "image/png": "[encoded data removed]",
      "text/plain": [
       "<Figure size 432x288 with 1 Axes>"
      ]
     },
     "metadata": {
      "needs_background": "light"
     },
     "output_type": "display_data"
    }
   ],
   "source": [
    "bn = pd.read_csv(\"/Users/alexandergoldstein/Downloads/05-Matplotlib_Homework_Pymaceuticals_data_Mouse_metadata.csv\")\n",
    "bl = bn[\"Drug Regimen\"].value_counts().plot(kind='bar')\n",
    "bl.plot() #returns bar chart"
   ]
  },
  {
   "cell_type": "code",
   "execution_count": 4,
   "metadata": {},
   "outputs": [
    {
     "name": "stdout",
     "output_type": "stream",
     "text": [
      "Maximum tumor size for Capomulin, Ramicane, Infubinol, and Ceftamin:  47.62281636 48.15820939 72.2267309 68.92318457\n",
      "Interquartile ranfges of tumor size for Capomulin, Ramicane, Infubinol, and Ceftamin:  8.325365415000007 7.314067135000002 10.002090667500006 9.5930104575\n"
     ]
    }
   ],
   "source": [
    "import scipy.stats as scpy\n",
    "import numpy as np\n",
    "\n",
    "bo = pd.DataFrame(a)\n",
    "bq = pd.DataFrame(bn)\n",
    "bp = pd.merge(bo, bq)\n",
    "bs = bp[bp[\"Drug Regimen\"] == 'Capomulin']\n",
    "br = bp[bp[\"Drug Regimen\"] == 'Ramicane']\n",
    "bt = bp[bp[\"Drug Regimen\"] == 'Infubinol']\n",
    "bu = bp[bp[\"Drug Regimen\"] == 'Ceftamin']\n",
    "bv = pd.concat([br, bs, bt, bu], ignore_index=True)\n",
    "\n",
    "print(\"Maximum tumor size for Capomulin, Ramicane, Infubinol, and Ceftamin: \", br[\"Tumor Volume (mm3)\"].max(), bs[\"Tumor Volume (mm3)\"].max(), bt[\"Tumor Volume (mm3)\"].max(), bu[\"Tumor Volume (mm3)\"].max())\n",
    "#returns final tumor volume\n",
    "\n",
    "print(\"Interquartile ranfges of tumor size for Capomulin, Ramicane, Infubinol, and Ceftamin: \", scpy.iqr(br[\"Tumor Volume (mm3)\"]), scpy.iqr(bs[\"Tumor Volume (mm3)\"]), scpy.iqr(bt[\"Tumor Volume (mm3)\"]), scpy.iqr(bu[\"Tumor Volume (mm3)\"]))\n",
    "#returns Interquartile ranges"
   ]
  },
  {
   "cell_type": "code",
   "execution_count": 5,
   "metadata": {},
   "outputs": [],
   "source": [
    "bw = np.percentile(br[\"Tumor Volume (mm3)\"], 25)\n",
    "bx = np.percentile(bs[\"Tumor Volume (mm3)\"], 25)\n",
    "by = np.percentile(bt[\"Tumor Volume (mm3)\"], 25)\n",
    "bz = np.percentile(bu[\"Tumor Volume (mm3)\"], 25)\n",
    "\n",
    "ca = np.percentile(br[\"Tumor Volume (mm3)\"], 75)\n",
    "cb = np.percentile(bs[\"Tumor Volume (mm3)\"], 75)\n",
    "cc = np.percentile(bt[\"Tumor Volume (mm3)\"], 75)\n",
    "cd = np.percentile(bu[\"Tumor Volume (mm3)\"], 75)\n",
    "\n",
    "ce = np.percentile(br[\"Tumor Volume (mm3)\"], 0)\n",
    "cf = np.percentile(bs[\"Tumor Volume (mm3)\"], 0)\n",
    "cg = np.percentile(bt[\"Tumor Volume (mm3)\"], 0)\n",
    "ch = np.percentile(bu[\"Tumor Volume (mm3)\"], 0)\n",
    "\n",
    "ci = np.percentile(br[\"Tumor Volume (mm3)\"], 100)\n",
    "cj = np.percentile(bs[\"Tumor Volume (mm3)\"], 100)\n",
    "ck = np.percentile(bt[\"Tumor Volume (mm3)\"], 100)\n",
    "cl = np.percentile(bu[\"Tumor Volume (mm3)\"], 100)\n",
    "\n",
    "print(bw, ca, ce, ci)\n",
    "print(bx, cb, cf, cj)\n",
    "print(by, cc, cg, ck)\n",
    "print(bz, cd, ch, cl)\n",
    "\n",
    "#returns quartiles"
   ]
  },
  {
   "cell_type": "code",
   "execution_count": 6,
   "metadata": {},
   "outputs": [
    {
     "name": "stdout",
     "output_type": "stream",
     "text": [
      "14.624508314999993  versus  8.325365415000007\n",
      "14.342334994999998  versus  7.314067135000002\n",
      "10.991007500000002  versus  10.002090667500006\n",
      "2.2084271125000043  versus  9.5930104575\n",
      "2.6228163600000016  versus  8.325365415000007\n",
      "3.1582093900000032  versus  7.314067135000002\n",
      "14.912286932500002  versus  10.002090667500006\n",
      "12.121747  versus  9.5930104575\n"
     ]
    }
   ],
   "source": [
    "#check for outliers\n",
    "print(bw-ce, \" versus \", ca-bw)\n",
    "print(bx-cf, \" versus \", cb-bx)\n",
    "print(by-cg, \" versus \", cc-by)\n",
    "print(bz-ch, \" versus \", cd-bz)\n",
    "\n",
    "print(ci-ca, \" versus \", ca-bw)\n",
    "print(cj-cb, \" versus \", cb-bx)\n",
    "print(ck-cc, \" versus \", cc-by)\n",
    "print(cl-cd, \" versus \", cd-bz)"
   ]
  },
  {
   "cell_type": "code",
   "execution_count": 10,
   "metadata": {},
   "outputs": [
    {
     "data": {
      "image/png": "[encoded data removed]",
      "text/plain": [
       "<Figure size 432x288 with 1 Axes>"
      ]
     },
     "metadata": {
      "needs_background": "light"
     },
     "output_type": "display_data"
    }
   ],
   "source": [
    "bm = dict(marker='o', markerfacecolor='green')\n",
    "plt.boxplot(br[\"Tumor Volume (mm3)\"], flierprops=bm, showfliers=True)\n",
    "plt.show()"
   ]
  },
  {
   "cell_type": "code",
   "execution_count": 11,
   "metadata": {},
   "outputs": [
    {
     "data": {
      "image/png": "[encoded data removed]",
      "text/plain": [
       "<Figure size 432x288 with 1 Axes>"
      ]
     },
     "metadata": {
      "needs_background": "light"
     },
     "output_type": "display_data"
    }
   ],
   "source": [
    "cm = dict(marker='o', markerfacecolor='red')\n",
    "plt.boxplot(bs[\"Tumor Volume (mm3)\"], flierprops=cm, showfliers=True)\n",
    "plt.show()"
   ]
  },
  {
   "cell_type": "code",
   "execution_count": 12,
   "metadata": {},
   "outputs": [
    {
     "data": {
      "image/png": "[encoded data removed]",
      "text/plain": [
       "<Figure size 432x288 with 1 Axes>"
      ]
     },
     "metadata": {
      "needs_background": "light"
     },
     "output_type": "display_data"
    }
   ],
   "source": [
    "cn = dict(marker='o', markerfacecolor='black')\n",
    "plt.boxplot(bt[\"Tumor Volume (mm3)\"], flierprops=cn, showfliers=True)\n",
    "plt.show()"
   ]
  },
  {
   "cell_type": "code",
   "execution_count": 14,
   "metadata": {},
   "outputs": [
    {
     "data": {
      "image/png": "[encoded data removed]",
      "text/plain": [
       "<Figure size 432x288 with 1 Axes>"
      ]
     },
     "metadata": {
      "needs_background": "light"
     },
     "output_type": "display_data"
    }
   ],
   "source": [
    "co = dict(marker='o', markerfacecolor='blue')\n",
    "plt.boxplot(bu[\"Tumor Volume (mm3)\"], flierprops=co, showfliers=True)\n",
    "plt.show()"
   ]
  },
  {
   "cell_type": "code",
   "execution_count": 21,
   "metadata": {},
   "outputs": [
    {
     "data": {
      "text/html": [
       "<div>\n",
       "<style scoped>\n",
       "    .dataframe tbody tr th:only-of-type {\n",
       "        vertical-align: middle;\n",
       "    }\n",
       "\n",
       "    .dataframe tbody tr th {\n",
       "        vertical-align: top;\n",
       "    }\n",
       "\n",
       "    .dataframe thead th {\n",
       "        text-align: right;\n",
       "    }\n",
       "</style>\n",
       "<table border=\"1\" class=\"dataframe\">\n",
       "  <thead>\n",
       "    <tr style=\"text-align: right;\">\n",
       "      <th></th>\n",
       "      <th>Mouse ID</th>\n",
       "      <th>Timepoint</th>\n",
       "      <th>Tumor Volume (mm3)</th>\n",
       "      <th>Metastatic Sites</th>\n",
       "      <th>Drug Regimen</th>\n",
       "      <th>Sex</th>\n",
       "      <th>Age_months</th>\n",
       "      <th>Weight (g)</th>\n",
       "    </tr>\n",
       "  </thead>\n",
       "  <tbody>\n",
       "    <tr>\n",
       "      <th>256</th>\n",
       "      <td>s185</td>\n",
       "      <td>0</td>\n",
       "      <td>45.000000</td>\n",
       "      <td>0</td>\n",
       "      <td>Capomulin</td>\n",
       "      <td>Female</td>\n",
       "      <td>3</td>\n",
       "      <td>17</td>\n",
       "    </tr>\n",
       "    <tr>\n",
       "      <th>257</th>\n",
       "      <td>s185</td>\n",
       "      <td>5</td>\n",
       "      <td>43.878496</td>\n",
       "      <td>0</td>\n",
       "      <td>Capomulin</td>\n",
       "      <td>Female</td>\n",
       "      <td>3</td>\n",
       "      <td>17</td>\n",
       "    </tr>\n",
       "    <tr>\n",
       "      <th>258</th>\n",
       "      <td>s185</td>\n",
       "      <td>10</td>\n",
       "      <td>37.614948</td>\n",
       "      <td>0</td>\n",
       "      <td>Capomulin</td>\n",
       "      <td>Female</td>\n",
       "      <td>3</td>\n",
       "      <td>17</td>\n",
       "    </tr>\n",
       "    <tr>\n",
       "      <th>259</th>\n",
       "      <td>s185</td>\n",
       "      <td>15</td>\n",
       "      <td>38.177232</td>\n",
       "      <td>0</td>\n",
       "      <td>Capomulin</td>\n",
       "      <td>Female</td>\n",
       "      <td>3</td>\n",
       "      <td>17</td>\n",
       "    </tr>\n",
       "    <tr>\n",
       "      <th>260</th>\n",
       "      <td>s185</td>\n",
       "      <td>20</td>\n",
       "      <td>36.866876</td>\n",
       "      <td>0</td>\n",
       "      <td>Capomulin</td>\n",
       "      <td>Female</td>\n",
       "      <td>3</td>\n",
       "      <td>17</td>\n",
       "    </tr>\n",
       "    <tr>\n",
       "      <th>261</th>\n",
       "      <td>s185</td>\n",
       "      <td>25</td>\n",
       "      <td>33.949940</td>\n",
       "      <td>0</td>\n",
       "      <td>Capomulin</td>\n",
       "      <td>Female</td>\n",
       "      <td>3</td>\n",
       "      <td>17</td>\n",
       "    </tr>\n",
       "    <tr>\n",
       "      <th>262</th>\n",
       "      <td>s185</td>\n",
       "      <td>30</td>\n",
       "      <td>32.959671</td>\n",
       "      <td>1</td>\n",
       "      <td>Capomulin</td>\n",
       "      <td>Female</td>\n",
       "      <td>3</td>\n",
       "      <td>17</td>\n",
       "    </tr>\n",
       "    <tr>\n",
       "      <th>263</th>\n",
       "      <td>s185</td>\n",
       "      <td>35</td>\n",
       "      <td>28.328531</td>\n",
       "      <td>1</td>\n",
       "      <td>Capomulin</td>\n",
       "      <td>Female</td>\n",
       "      <td>3</td>\n",
       "      <td>17</td>\n",
       "    </tr>\n",
       "    <tr>\n",
       "      <th>264</th>\n",
       "      <td>s185</td>\n",
       "      <td>40</td>\n",
       "      <td>25.472143</td>\n",
       "      <td>1</td>\n",
       "      <td>Capomulin</td>\n",
       "      <td>Female</td>\n",
       "      <td>3</td>\n",
       "      <td>17</td>\n",
       "    </tr>\n",
       "    <tr>\n",
       "      <th>265</th>\n",
       "      <td>s185</td>\n",
       "      <td>45</td>\n",
       "      <td>23.343598</td>\n",
       "      <td>1</td>\n",
       "      <td>Capomulin</td>\n",
       "      <td>Female</td>\n",
       "      <td>3</td>\n",
       "      <td>17</td>\n",
       "    </tr>\n",
       "  </tbody>\n",
       "</table>\n",
       "</div>"
      ],
      "text/plain": [
       "    Mouse ID  Timepoint  Tumor Volume (mm3)  Metastatic Sites Drug Regimen  \\\n",
       "256     s185          0           45.000000                 0    Capomulin   \n",
       "257     s185          5           43.878496                 0    Capomulin   \n",
       "258     s185         10           37.614948                 0    Capomulin   \n",
       "259     s185         15           38.177232                 0    Capomulin   \n",
       "260     s185         20           36.866876                 0    Capomulin   \n",
       "261     s185         25           33.949940                 0    Capomulin   \n",
       "262     s185         30           32.959671                 1    Capomulin   \n",
       "263     s185         35           28.328531                 1    Capomulin   \n",
       "264     s185         40           25.472143                 1    Capomulin   \n",
       "265     s185         45           23.343598                 1    Capomulin   \n",
       "\n",
       "        Sex  Age_months  Weight (g)  \n",
       "256  Female           3          17  \n",
       "257  Female           3          17  \n",
       "258  Female           3          17  \n",
       "259  Female           3          17  \n",
       "260  Female           3          17  \n",
       "261  Female           3          17  \n",
       "262  Female           3          17  \n",
       "263  Female           3          17  \n",
       "264  Female           3          17  \n",
       "265  Female           3          17  "
      ]
     },
     "execution_count": 21,
     "metadata": {},
     "output_type": "execute_result"
    }
   ],
   "source": [
    "cp = bv.groupby([\"Mouse ID\"])\n",
    "cp.get_group(\"s185\")"
   ]
  },
  {
   "cell_type": "code",
   "execution_count": 24,
   "metadata": {},
   "outputs": [
    {
     "data": {
      "image/png": "[encoded data removed]",
      "text/plain": [
       "<Figure size 432x288 with 1 Axes>"
      ]
     },
     "metadata": {
      "needs_background": "light"
     },
     "output_type": "display_data"
    }
   ],
   "source": [
    "cq = plt.plot(cp.get_group(\"s185\")[\"Tumor Volume (mm3)\"]) #generates line plot of tumor size over time"
   ]
  },
  {
   "cell_type": "code",
   "execution_count": 31,
   "metadata": {
    "scrolled": true
   },
   "outputs": [
    {
     "data": {
      "image/png": "[encoded data removed]",
      "text/plain": [
       "<Figure size 432x288 with 1 Axes>"
      ]
     },
     "metadata": {
      "needs_background": "light"
     },
     "output_type": "display_data"
    }
   ],
   "source": [
    "cr = bs[\"Weight (g)\"]\n",
    "cs = bs[\"Tumor Volume (mm3)\"]\n",
    "plt.scatter(cr, cs, color='pink')\n",
    "plt.show()"
   ]
  },
  {
   "cell_type": "code",
   "execution_count": 42,
   "metadata": {},
   "outputs": [
    {
     "data": {
      "text/html": [
       "<table class=\"simpletable\">\n",
       "<caption>OLS Regression Results</caption>\n",
       "<tr>\n",
       "  <th>Dep. Variable:</th>    <td>Tumor Volume (mm3)</td> <th>  R-squared (uncentered):</th>      <td>   0.984</td> \n",
       "</tr>\n",
       "<tr>\n",
       "  <th>Model:</th>                    <td>OLS</td>        <th>  Adj. R-squared (uncentered):</th> <td>   0.984</td> \n",
       "</tr>\n",
       "<tr>\n",
       "  <th>Method:</th>              <td>Least Squares</td>   <th>  F-statistic:       </th>          <td>1.432e+04</td>\n",
       "</tr>\n",
       "<tr>\n",
       "  <th>Date:</th>              <td>Thu, 17 Dec 2020</td>  <th>  Prob (F-statistic):</th>          <td>1.88e-208</td>\n",
       "</tr>\n",
       "<tr>\n",
       "  <th>Time:</th>                  <td>18:24:21</td>      <th>  Log-Likelihood:    </th>          <td> -702.92</td> \n",
       "</tr>\n",
       "<tr>\n",
       "  <th>No. Observations:</th>       <td>   230</td>       <th>  AIC:               </th>          <td>   1408.</td> \n",
       "</tr>\n",
       "<tr>\n",
       "  <th>Df Residuals:</th>           <td>   229</td>       <th>  BIC:               </th>          <td>   1411.</td> \n",
       "</tr>\n",
       "<tr>\n",
       "  <th>Df Model:</th>               <td>     1</td>       <th>                     </th>              <td> </td>    \n",
       "</tr>\n",
       "<tr>\n",
       "  <th>Covariance Type:</th>       <td>nonrobust</td>     <th>                     </th>              <td> </td>    \n",
       "</tr>\n",
       "</table>\n",
       "<table class=\"simpletable\">\n",
       "<tr>\n",
       "       <td></td>         <th>coef</th>     <th>std err</th>      <th>t</th>      <th>P>|t|</th>  <th>[0.025</th>    <th>0.975]</th>  \n",
       "</tr>\n",
       "<tr>\n",
       "  <th>Weight (g)</th> <td>    2.0176</td> <td>    0.017</td> <td>  119.675</td> <td> 0.000</td> <td>    1.984</td> <td>    2.051</td>\n",
       "</tr>\n",
       "</table>\n",
       "<table class=\"simpletable\">\n",
       "<tr>\n",
       "  <th>Omnibus:</th>       <td>11.568</td> <th>  Durbin-Watson:     </th> <td>   0.669</td>\n",
       "</tr>\n",
       "<tr>\n",
       "  <th>Prob(Omnibus):</th> <td> 0.003</td> <th>  Jarque-Bera (JB):  </th> <td>  12.317</td>\n",
       "</tr>\n",
       "<tr>\n",
       "  <th>Skew:</th>          <td> 0.567</td> <th>  Prob(JB):          </th> <td> 0.00212</td>\n",
       "</tr>\n",
       "<tr>\n",
       "  <th>Kurtosis:</th>      <td> 3.002</td> <th>  Cond. No.          </th> <td>    1.00</td>\n",
       "</tr>\n",
       "</table><br/><br/>Warnings:<br/>[1] Standard Errors assume that the covariance matrix of the errors is correctly specified."
      ],
      "text/plain": [
       "<class 'statsmodels.iolib.summary.Summary'>\n",
       "\"\"\"\n",
       "                                 OLS Regression Results                                \n",
       "=======================================================================================\n",
       "Dep. Variable:     Tumor Volume (mm3)   R-squared (uncentered):                   0.984\n",
       "Model:                            OLS   Adj. R-squared (uncentered):              0.984\n",
       "Method:                 Least Squares   F-statistic:                          1.432e+04\n",
       "Date:                Thu, 17 Dec 2020   Prob (F-statistic):                   1.88e-208\n",
       "Time:                        18:24:21   Log-Likelihood:                         -702.92\n",
       "No. Observations:                 230   AIC:                                      1408.\n",
       "Df Residuals:                     229   BIC:                                      1411.\n",
       "Df Model:                           1                                                  \n",
       "Covariance Type:            nonrobust                                                  \n",
       "==============================================================================\n",
       "                 coef    std err          t      P>|t|      [0.025      0.975]\n",
       "------------------------------------------------------------------------------\n",
       "Weight (g)     2.0176      0.017    119.675      0.000       1.984       2.051\n",
       "==============================================================================\n",
       "Omnibus:                       11.568   Durbin-Watson:                   0.669\n",
       "Prob(Omnibus):                  0.003   Jarque-Bera (JB):               12.317\n",
       "Skew:                           0.567   Prob(JB):                      0.00212\n",
       "Kurtosis:                       3.002   Cond. No.                         1.00\n",
       "==============================================================================\n",
       "\n",
       "Warnings:\n",
       "[1] Standard Errors assume that the covariance matrix of the errors is correctly specified.\n",
       "\"\"\""
      ]
     },
     "execution_count": 42,
     "metadata": {},
     "output_type": "execute_result"
    }
   ],
   "source": [
    "import statsmodels.api as sma\n",
    "ct = sma.OLS(cs, cr).fit()\n",
    "ct.summary() #generates linear regression with correlation coefficient\n"
   ]
  },
  {
   "cell_type": "code",
   "execution_count": 48,
   "metadata": {},
   "outputs": [
    {
     "data": {
      "text/plain": [
       "[<matplotlib.lines.Line2D at 0x7fa99677a3a0>]"
      ]
     },
     "execution_count": 48,
     "metadata": {},
     "output_type": "execute_result"
    },
    {
     "data": {
      "image/png": "[encoded data removed]",
      "text/plain": [
       "<Figure size 432x288 with 1 Axes>"
      ]
     },
     "metadata": {
      "needs_background": "light"
     },
     "output_type": "display_data"
    }
   ],
   "source": [
    "cu, cv = np.polyfit(cr, cs, 1)\n",
    "plt.scatter(cr, cs, color='pink')\n",
    "plt.plot(cr, cu*cr + cv) #plots linear regression line"
   ]
  },
  {
   "cell_type": "code",
   "execution_count": 50,
   "metadata": {},
   "outputs": [],
   "source": [
    "#Three Observations\n",
    "\n",
    "\n",
    "#Observation 1: The decline in the size of mouse s185's tumor suggests that Capomulin was effective against its tumor\n",
    "\n",
    "#Observation 2: Tumor Volume in mice subjected to capomulin, ramicane, and infubinol exhibited leftward skewness of distribution\n",
    "\n",
    "#Obervation 3: There is statistically significant positive correlation between a mouse's weight and its tumor volume, as evidenced by the correlation coefficient of 2.02 and the null hypothesis being rejected at the 0.1% level"
   ]
  },
  {
   "cell_type": "code",
   "execution_count": 63,
   "metadata": {},
   "outputs": [
    {
     "data": {
      "text/plain": [
       "([<matplotlib.patches.Wedge at 0x7fa9971358e0>,\n",
       "  <matplotlib.patches.Wedge at 0x7fa997135d90>],\n",
       " [Text(-0.0069391759767656585, 1.0999781124353174, 'Male'),\n",
       "  Text(0.006939175976765524, -1.0999781124353174, 'Female')])"
      ]
     },
     "execution_count": 63,
     "metadata": {},
     "output_type": "execute_result"
    },
    {
     "data": {
      "image/png": "[encoded data removed]",
      "text/plain": [
       "<Figure size 432x288 with 1 Axes>"
      ]
     },
     "metadata": {},
     "output_type": "display_data"
    }
   ],
   "source": [
    "cw = ['Male', 'Female']\n",
    "cx = bn[bn[\"Sex\"]== \"Male\"]\n",
    "cy = bn[bn[\"Sex\"]== \"Female\"]\n",
    "cz = len(cx.index)\n",
    "da = len(cy.index)\n",
    "db = (cz, da)\n",
    "plt.pie(db, labels=cw) #shows pie plot Matplotlib style"
   ]
  },
  {
   "cell_type": "code",
   "execution_count": 62,
   "metadata": {},
   "outputs": [
    {
     "data": {
      "image/png": "[encoded data removed]",
      "text/plain": [
       "<Figure size 432x288 with 1 Axes>"
      ]
     },
     "metadata": {},
     "output_type": "display_data"
    }
   ],
   "source": [
    "df = bn[\"Sex\"].value_counts().plot(kind='pie')"
   ]
  },
  {
   "cell_type": "code",
   "execution_count": 83,
   "metadata": {
    "scrolled": true
   },
   "outputs": [
    {
     "data": {
      "text/plain": [
       "<BarContainer object of 10 artists>"
      ]
     },
     "execution_count": 83,
     "metadata": {},
     "output_type": "execute_result"
    },
    {
     "data": {
      "image/png": "[encoded data removed]",
      "text/plain": [
       "<Figure size 432x288 with 1 Axes>"
      ]
     },
     "metadata": {
      "needs_background": "light"
     },
     "output_type": "display_data"
    }
   ],
   "source": [
    "de = bn[\"Drug Regimen\"].value_counts()\n",
    "df = ['Naftisol', 'Kerapril', 'Zoniferol', 'Infubinol', 'Placebo', 'Propriva', 'Ceftamin', 'Ramicane', 'Capomulin', 'Stelasyn']\n",
    "plt.bar(df, de) #matplotlib bar plot method"
   ]
  },
  {
   "cell_type": "code",
   "execution_count": null,
   "metadata": {},
   "outputs": [],
   "source": []
  }
 ],
 "metadata": {
  "kernelspec": {
   "display_name": "Python 3",
   "language": "python",
   "name": "python3"
  },
  "language_info": {
   "codemirror_mode": {
    "name": "ipython",
    "version": 3
   },
   "file_extension": ".py",
   "mimetype": "text/x-python",
   "name": "python",
   "nbconvert_exporter": "python",
   "pygments_lexer": "ipython3",
   "version": "3.8.3"
  }
 },
 "nbformat": 4,
 "nbformat_minor": 4
}
